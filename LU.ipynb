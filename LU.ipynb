{
 "cells": [
  {
   "cell_type": "code",
   "execution_count": 9,
   "metadata": {},
   "outputs": [],
   "source": [
    "import numpy as np"
   ]
  },
  {
   "cell_type": "code",
   "execution_count": 10,
   "metadata": {},
   "outputs": [],
   "source": [
    "# FUNCIONES PARA RESOLVER SISTEMAS TENIENDO L Y U\n",
    "\n",
    "def resultadoEnPosicion(U, b, x, pos):\n",
    "    res = b[pos]\n",
    "    largo = len(b)\n",
    "    for i in range(largo):\n",
    "        if(i != pos):\n",
    "            res = res - U[pos][i] * x[i]\n",
    "    return (res / U[pos][pos])\n",
    "\n",
    "\n",
    "def Uxb(U, b): #solo sirve si U es triangular superior\n",
    "    largo = len(b)\n",
    "    res = np.zeros(largo)\n",
    "    for i in range(largo):\n",
    "        pos = largo - 1 - i #posicion en la diagonal\n",
    "        res[pos] = resultadoEnPosicion(U,b,res,pos)\n",
    "    return res\n",
    "\n",
    "\n",
    "def Lyx(L, x): #solo sirve si U es triangular inferior\n",
    "    largo = len(x)\n",
    "    res = np.zeros(largo)\n",
    "    for i in range(largo):\n",
    "        res[i] = resultadoEnPosicion(L,x,res,i)\n",
    "    return res\n",
    "    \n",
    "\n",
    "\n",
    "\n"
   ]
  },
  {
   "cell_type": "code",
   "execution_count": 14,
   "metadata": {},
   "outputs": [],
   "source": [
    "#FUNCIONES PARA SACAR LA DESCOMPO LU\n",
    "\n",
    "def matarBajoPivote(U, F, L):\n",
    "    pivote = U[F][F]\n",
    "    for i in range(len(U) - F - 1):\n",
    "        cociente = U[F + i + 1][F] / pivote \n",
    "        U[F + i + 1] = U[F + i + 1] - U[F] * cociente\n",
    "        L[F + i + 1][F] = cociente\n",
    "    return (U, L)\n",
    "\n",
    "def LU(A):\n",
    "    U = np.copy(A)\n",
    "    L = np.eye(len(U))\n",
    "    for i in range(len(U)-1):\n",
    "        \n",
    "        matrices = matarBajoPivote(U, i + 1, L)\n",
    "        U = matrices[0]\n",
    "        L = matrices[1]\n",
    "    return (L, U)\n",
    "\n",
    "    \n"
   ]
  },
  {
   "cell_type": "code",
   "execution_count": 15,
   "metadata": {},
   "outputs": [
    {
     "name": "stdout",
     "output_type": "stream",
     "text": [
      "[[ 1 -1  0  1]\n",
      " [ 0  1  4  0]\n",
      " [ 2 -1  0 -2]\n",
      " [-3  3  0 -1]] \n",
      "\n",
      "[[ 1 -1  0  1]\n",
      " [ 0  1  4  0]\n",
      " [ 2 -1  0 -2]\n",
      " [-3  3  0 -1]] \n",
      "\n",
      "[[ 1. -1.  0.  1.]\n",
      " [ 0.  1.  4.  0.]\n",
      " [ 2. -1.  0. -2.]\n",
      " [-3.  3.  0. -1.]] \n",
      "\n",
      "[[ 1.  0.  0.  0.]\n",
      " [ 0.  1.  0.  0.]\n",
      " [ 0. -1.  1.  0.]\n",
      " [ 0.  3. -3.  1.]] \n",
      "\n",
      "[[ 1 -1  0  1]\n",
      " [ 0  1  4  0]\n",
      " [ 2  0  4 -2]\n",
      " [ 3  0  0 -7]] \n",
      "\n"
     ]
    }
   ],
   "source": [
    "\n",
    "A = np.array([[1,-1,0,1],[0,1,4,0],[2,-1,0,-2],[-3,3,0,-1]])\n",
    "b = np.array([1,-7,-5,1])\n",
    "\n",
    "\n",
    "print(A, \"\\n\")\n",
    "\n",
    "L = LU(A)[0]\n",
    "U = LU(A)[1]\n",
    "\n",
    "print(A, \"\\n\")\n",
    "\n",
    "print(L@U, \"\\n\")\n",
    "\n",
    "print(LU(A)[0], \"\\n\")\n",
    "\n",
    "print(LU(A)[1], \"\\n\")\n"
   ]
  },
  {
   "cell_type": "code",
   "execution_count": 16,
   "metadata": {},
   "outputs": [
    {
     "name": "stdout",
     "output_type": "stream",
     "text": [
      "[[1 1 0]\n",
      " [0 1 2]\n",
      " [1 0 3]] \n",
      "\n",
      "[[1. 0. 0.]\n",
      " [0. 1. 0.]\n",
      " [0. 0. 1.]] \n",
      "\n",
      "[[1 1 0]\n",
      " [0 1 2]\n",
      " [1 0 3]]\n"
     ]
    }
   ],
   "source": [
    "A = np.array([[0,1,2],[1,1,0],[1,0,3]])\n",
    "P = np.array([[0,1,0],[1,0,0],[0,0,1]])\n",
    "PA = P@A\n",
    "LU = LU(PA)\n",
    "\n",
    "print(PA, \"\\n\")\n",
    "\n",
    "print(LU[0],\"\\n\")\n",
    "print(LU[1])"
   ]
  },
  {
   "cell_type": "code",
   "execution_count": 13,
   "metadata": {},
   "outputs": [
    {
     "name": "stdout",
     "output_type": "stream",
     "text": [
      "[ 0.  1. -2.  2.]\n",
      "[-8.8817842e-16  1.0000000e+00 -2.0000000e+00  2.0000000e+00]\n"
     ]
    }
   ],
   "source": [
    "A = np.array([[1,-1,0,1],[0,1,4,0],[2,-1,0,-2],[-3,3,0,-1]])\n",
    "b = np.array([1,-7,-5,1])\n",
    "\n",
    "def resolverLU(A, b):\n",
    "    t = LU(A)\n",
    "    y = Lyx(t[0], b)\n",
    "    return Uxb(t[1], y)\n",
    "\n",
    "print(resolverLU(A, b))\n",
    "\n",
    "print(np.linalg.solve(A,b))"
   ]
  }
 ],
 "metadata": {
  "kernelspec": {
   "display_name": "Python 3.9.7 64-bit",
   "language": "python",
   "name": "python3"
  },
  "language_info": {
   "codemirror_mode": {
    "name": "ipython",
    "version": 3
   },
   "file_extension": ".py",
   "mimetype": "text/x-python",
   "name": "python",
   "nbconvert_exporter": "python",
   "pygments_lexer": "ipython3",
   "version": "3.9.7"
  },
  "orig_nbformat": 4,
  "vscode": {
   "interpreter": {
    "hash": "d69a8392de79c3bea53b8577190d61bace1104d5efaf072cb8d20a16602d9c5c"
   }
  }
 },
 "nbformat": 4,
 "nbformat_minor": 2
}
