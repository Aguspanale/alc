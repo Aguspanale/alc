{
 "cells": [
  {
   "cell_type": "code",
   "execution_count": 7,
   "id": "c5c2661f",
   "metadata": {},
   "outputs": [],
   "source": [
    "from row_echelon import *\n",
    "import numpy as np\n",
    "import scipy as sc\n",
    "from scipy.linalg import null_space"
   ]
  },
  {
   "cell_type": "code",
   "execution_count": 21,
   "id": "6636b230",
   "metadata": {},
   "outputs": [
    {
     "name": "stdout",
     "output_type": "stream",
     "text": [
      "[[ 0. -1.  1.  0.]\n",
      " [-0. -0.  0. -1.]\n",
      " [ 1.  1.  0.  0.]\n",
      " [-1. -0.  1.  1.]]\n"
     ]
    }
   ],
   "source": [
    "a = -3\n",
    "A = np.array([[0,1,0,1],[1,0,1,0],[0,1,0,1],[1,0,1,0]])\n",
    "print(np.round(np.linalg.eig(A)[1]))\n"
   ]
  }
 ],
 "metadata": {
  "kernelspec": {
   "display_name": "Python 3 (ipykernel)",
   "language": "python",
   "name": "python3"
  },
  "language_info": {
   "codemirror_mode": {
    "name": "ipython",
    "version": 3
   },
   "file_extension": ".py",
   "mimetype": "text/x-python",
   "name": "python",
   "nbconvert_exporter": "python",
   "pygments_lexer": "ipython3",
   "version": "3.9.12"
  }
 },
 "nbformat": 4,
 "nbformat_minor": 5
}
