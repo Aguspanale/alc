{
 "cells": [
  {
   "cell_type": "code",
   "execution_count": 2,
   "id": "0d8abae9",
   "metadata": {},
   "outputs": [],
   "source": [
    "import numpy as np\n"
   ]
  },
  {
   "cell_type": "code",
   "execution_count": 3,
   "id": "6c1fa71c",
   "metadata": {},
   "outputs": [
    {
     "name": "stdout",
     "output_type": "stream",
     "text": [
      "[-0.25  1.    0.5   0.5 ]\n"
     ]
    }
   ],
   "source": [
    "P = np.array([[0.25,0.5,0.5,0.5],[0.25,0.5,0,0],[0.25,0,0.5,0],[0.25,0,0,0.5]])\n",
    "avals = np.linalg.eigvals(P)\n",
    "print(avals)"
   ]
  },
  {
   "cell_type": "code",
   "execution_count": 4,
   "id": "b0c3f6cc",
   "metadata": {},
   "outputs": [
    {
     "name": "stdout",
     "output_type": "stream",
     "text": [
      "[0.4 0.2 0.2 0.2]\n"
     ]
    }
   ],
   "source": [
    "v0 = np.array([1,0,0,0])\n",
    "for i in range(4):\n",
    "    v0 = P @ v0\n",
    "print(np.round(v0,2))"
   ]
  },
  {
   "cell_type": "code",
   "execution_count": 5,
   "id": "ccb0548b",
   "metadata": {},
   "outputs": [
    {
     "name": "stdout",
     "output_type": "stream",
     "text": [
      "[[0.4 0.4 0.4 0.4]\n",
      " [0.2 0.2 0.2 0.2]\n",
      " [0.2 0.2 0.2 0.2]\n",
      " [0.2 0.2 0.2 0.2]]\n",
      "4\n"
     ]
    }
   ],
   "source": [
    "PI = P\n",
    "for i in range(20):\n",
    "    PI = P @ PI\n",
    "print(np.round(PI,2))\n",
    "print(range(1,5)[3])"
   ]
  },
  {
   "cell_type": "code",
   "execution_count": 28,
   "id": "ea29f673",
   "metadata": {},
   "outputs": [],
   "source": [
    "distancia = 20 \n",
    "probabilidad = 0.5\n",
    "\n",
    "def crearMatriz(n, p):\n",
    "    P = np.zeros(shape=(n, n))\n",
    "    P[0][0] = 1\n",
    "    P[n-1][n-1] = 1\n",
    "    for i in range(1,n-1):\n",
    "        P[i-1][i] = 1-p\n",
    "        P[i+1][i] = p\n",
    "    return P\n",
    "P = crearMatriz(distancia,probabilidad)\n",
    "#ultima columna = casa\n",
    "\n",
    "    "
   ]
  },
  {
   "cell_type": "code",
   "execution_count": 29,
   "id": "cd1f1901",
   "metadata": {},
   "outputs": [
    {
     "name": "stdout",
     "output_type": "stream",
     "text": [
      "[0. 0. 0. 0. 0. 0. 0. 0. 0. 0. 1. 0. 0. 0. 0. 0. 0. 0. 0. 0.]\n"
     ]
    }
   ],
   "source": [
    "v0 = np.zeros(shape=(1,distancia))\n",
    "v0 = v0[0]\n",
    "v0[10]=1\n",
    "print(v0)"
   ]
  },
  {
   "cell_type": "code",
   "execution_count": 31,
   "id": "27ca8bda",
   "metadata": {},
   "outputs": [
    {
     "name": "stdout",
     "output_type": "stream",
     "text": [
      "[0.47368 0.      0.      0.      0.      0.      0.      0.      0.\n",
      " 0.      0.      0.      0.      0.      0.      0.      0.      0.\n",
      " 0.      0.52632]\n"
     ]
    }
   ],
   "source": [
    "epsilon = 0.000001\n",
    "while(True):\n",
    "    transformado = P @ v0\n",
    "    if (np.linalg.norm((transformado - v0),1) <= epsilon):\n",
    "        v0 = transformado\n",
    "        break\n",
    "    else:\n",
    "        v0 = transformado\n",
    "print(np.round(v0,5))"
   ]
  },
  {
   "cell_type": "code",
   "execution_count": null,
   "id": "8a14f349",
   "metadata": {},
   "outputs": [],
   "source": []
  }
 ],
 "metadata": {
  "kernelspec": {
   "display_name": "Python 3 (ipykernel)",
   "language": "python",
   "name": "python3"
  },
  "language_info": {
   "codemirror_mode": {
    "name": "ipython",
    "version": 3
   },
   "file_extension": ".py",
   "mimetype": "text/x-python",
   "name": "python",
   "nbconvert_exporter": "python",
   "pygments_lexer": "ipython3",
   "version": "3.9.12"
  }
 },
 "nbformat": 4,
 "nbformat_minor": 5
}
