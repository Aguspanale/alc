{
 "cells": [
  {
   "cell_type": "code",
   "execution_count": 1,
   "metadata": {},
   "outputs": [],
   "source": [
    "import numpy as np\n"
   ]
  },
  {
   "cell_type": "code",
   "execution_count": 122,
   "metadata": {},
   "outputs": [],
   "source": [
    "\n",
    "def productoDiagonal(D,b):\n",
    "    result = b.astype(float)\n",
    "    for i in range(len(D)):\n",
    "        result[i] = D[i]*result[i]\n",
    "    return result\n",
    "\n",
    "\n",
    "def generarJacobi(A,b):\n",
    "    D = np.diag(A)\n",
    "    L = np.tril(A,-1)\n",
    "    U = np.triu(A,+1)\n",
    "    D = 1/D\n",
    "    M = productoDiagonal(-D,(L + U))\n",
    "    b0 = productoDiagonal(D,b)\n",
    "    \n",
    "    return (M,b0)\n",
    "\n",
    "def resolverJacobi(A,b,tope,tolerancia):\n",
    "    T = generarJacobi(A,b)\n",
    "    M = T[0]\n",
    "    b0 = T[1]\n",
    "    result = np.random.rand(len(A))\n",
    "    i = 0\n",
    "    while True:\n",
    "        v0 = result\n",
    "        result = M @ result + b0\n",
    "        i = i+1\n",
    "        if (np.linalg.norm((v0-result), np.Inf) < tolerancia):\n",
    "            print(i)\n",
    "            break\n",
    "        elif (i >= tope):\n",
    "            print(i)\n",
    "            print(\"se excedió el numero de iteraciones\")\n",
    "            break\n",
    "    return result\n"
   ]
  },
  {
   "cell_type": "code",
   "execution_count": 123,
   "metadata": {},
   "outputs": [
    {
     "name": "stdout",
     "output_type": "stream",
     "text": [
      "[1. 1. 1.]\n",
      "28\n",
      "[0.99999997 0.99999998 0.99999998]\n"
     ]
    }
   ],
   "source": [
    "A = np.array([[3,1,1],[2,6,1],[1,1,4]])\n",
    "b = np.array([5,9,6])\n",
    "\n",
    "print(np.linalg.solve(A,b))\n",
    "print(resolverJacobi(A,b,400,0.0000001))"
   ]
  },
  {
   "cell_type": "code",
   "execution_count": 124,
   "metadata": {},
   "outputs": [
    {
     "name": "stdout",
     "output_type": "stream",
     "text": [
      "[1. 1. 1.]\n",
      "(array([[-0.        , -0.33333333, -0.33333333],\n",
      "       [-0.33333333, -0.        , -0.16666667],\n",
      "       [-0.25      , -0.25      , -0.        ]]), array([1.66666667, 1.5       , 1.5       ]))\n",
      "5\n"
     ]
    },
    {
     "data": {
      "text/plain": [
       "array([1.02923109, 1.02431874, 1.02386109])"
      ]
     },
     "execution_count": 124,
     "metadata": {},
     "output_type": "execute_result"
    }
   ],
   "source": [
    "A = np.array([[3.,1.,1.],[2.,6.,1.],[1.,1.,4.]])\n",
    "b = np.array([5.,9.,6.])\n",
    "\n",
    "print(np.linalg.solve(A,b))\n",
    "print(generarJacobi(A,b))\n",
    "resolverJacobi(A,b,20,0.1)\n",
    "\n",
    "\n"
   ]
  }
 ],
 "metadata": {
  "kernelspec": {
   "display_name": "Python 3.9.12 ('base')",
   "language": "python",
   "name": "python3"
  },
  "language_info": {
   "codemirror_mode": {
    "name": "ipython",
    "version": 3
   },
   "file_extension": ".py",
   "mimetype": "text/x-python",
   "name": "python",
   "nbconvert_exporter": "python",
   "pygments_lexer": "ipython3",
   "version": "3.9.12"
  },
  "orig_nbformat": 4,
  "vscode": {
   "interpreter": {
    "hash": "91bb753b057673435fb8d6f6a083e6c818364728098c7ae050ca3a25357dd754"
   }
  }
 },
 "nbformat": 4,
 "nbformat_minor": 2
}
