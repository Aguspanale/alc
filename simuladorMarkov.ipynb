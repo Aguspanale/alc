{
 "cells": [
  {
   "cell_type": "code",
   "execution_count": 2,
   "id": "0d8abae9",
   "metadata": {},
   "outputs": [],
   "source": [
    "import numpy as np\n"
   ]
  },
  {
   "cell_type": "code",
   "execution_count": 3,
   "id": "6c1fa71c",
   "metadata": {},
   "outputs": [
    {
     "name": "stdout",
     "output_type": "stream",
     "text": [
      "[-0.25  1.    0.5   0.5 ]\n"
     ]
    }
   ],
   "source": [
    "P = np.array([[0.25,0.5,0.5,0.5],[0.25,0.5,0,0],[0.25,0,0.5,0],[0.25,0,0,0.5]])\n",
    "avals = np.linalg.eigvals(P)\n",
    "print(avals)"
   ]
  },
  {
   "cell_type": "code",
   "execution_count": 4,
   "id": "b0c3f6cc",
   "metadata": {},
   "outputs": [
    {
     "name": "stdout",
     "output_type": "stream",
     "text": [
      "[0.4 0.2 0.2 0.2]\n"
     ]
    }
   ],
   "source": [
    "v0 = np.array([1,0,0,0])\n",
    "for i in range(4):\n",
    "    v0 = P @ v0\n",
    "print(np.round(v0,2))"
   ]
  },
  {
   "cell_type": "code",
   "execution_count": 82,
   "id": "ccb0548b",
   "metadata": {},
   "outputs": [
    {
     "name": "stdout",
     "output_type": "stream",
     "text": [
      "[[0.4 0.4 0.4 0.4]\n",
      " [0.2 0.2 0.2 0.2]\n",
      " [0.2 0.2 0.2 0.2]\n",
      " [0.2 0.2 0.2 0.2]]\n",
      "4\n"
     ]
    }
   ],
   "source": [
    "def potenciarMatriz(P,n):\n",
    "    PI = P\n",
    "    for i in range(n):\n",
    "        PI = P @ PI\n",
    "    return PI\n",
    "print(np.round(PI,2))\n",
    "print(range(1,5)[3])"
   ]
  },
  {
   "cell_type": "code",
   "execution_count": 54,
   "id": "ea29f673",
   "metadata": {},
   "outputs": [],
   "source": [
    "distancia = 20 \n",
    "probabilidad = 0.8\n",
    "\n",
    "def crearMatriz(n, p):\n",
    "    P = np.zeros(shape=(n, n))\n",
    "    P[0][0] = 1\n",
    "    P[n-1][n-1] = 1\n",
    "    for i in range(1,n-1):\n",
    "        P[i-1][i] = 1-p\n",
    "        P[i+1][i] = p\n",
    "    return P\n",
    "P = crearMatriz(distancia,probabilidad)\n",
    "#ultima columna = casa\n",
    "\n",
    "    "
   ]
  },
  {
   "cell_type": "code",
   "execution_count": 40,
   "id": "8f8b2ecf",
   "metadata": {},
   "outputs": [
    {
     "name": "stdout",
     "output_type": "stream",
     "text": [
      "[0. 0. 0. 0. 0. 0. 0. 0. 0. 0. 1. 0. 0. 0. 0. 0. 0. 0. 0. 0.]\n"
     ]
    }
   ],
   "source": [
    "v0 = np.zeros(shape=(1,distancia))\n",
    "v0 = v0[0]\n",
    "v0[10]=1\n",
    "print(v0)"
   ]
  },
  {
   "cell_type": "code",
   "execution_count": 41,
   "id": "7a38b8b1",
   "metadata": {},
   "outputs": [
    {
     "name": "stdout",
     "output_type": "stream",
     "text": [
      "[0. 0. 0. 0. 0. 0. 0. 0. 0. 0. 0. 0. 0. 0. 0. 0. 0. 0. 0. 1.]\n"
     ]
    }
   ],
   "source": [
    "epsilon = 0.000001\n",
    "def ruinaApostador(P, v0, epsilon):\n",
    "    while(True):\n",
    "        transformado = P @ v0\n",
    "        if (np.linalg.norm((transformado - v0),1) <= epsilon):\n",
    "            v0 = transformado\n",
    "            break\n",
    "        else:\n",
    "            v0 = transformado\n",
    "    return v0\n",
    "        \n",
    "print(np.round(ruinaApostador(P, v0, epsilon), 5))"
   ]
  },
  {
   "cell_type": "code",
   "execution_count": 42,
   "id": "4cc5071b",
   "metadata": {},
   "outputs": [
    {
     "name": "stdout",
     "output_type": "stream",
     "text": [
      "[0.25 0.   0.   0.   0.   0.   0.   0.   0.   0.   0.   0.   0.   0.\n",
      " 0.   0.   0.   0.   0.   0.75]\n"
     ]
    }
   ],
   "source": [
    "v1 = np.zeros(shape=(1,distancia))\n",
    "v1 = v1[0]\n",
    "v1[1]=1\n",
    "print(np.round(ruinaApostador(P, v1, epsilon), 5))"
   ]
  },
  {
   "cell_type": "code",
   "execution_count": 56,
   "id": "e184613e",
   "metadata": {},
   "outputs": [
    {
     "name": "stdout",
     "output_type": "stream",
     "text": [
      "[[1.    0.25  0.062 0.016 0.004 0.001 0.    0.    0.    0.    0.    0.\n",
      "  0.    0.    0.    0.    0.    0.    0.    0.   ]\n",
      " [0.    0.    0.    0.    0.    0.    0.    0.    0.    0.    0.    0.\n",
      "  0.    0.    0.    0.    0.    0.    0.    0.   ]\n",
      " [0.    0.001 0.    0.    0.    0.    0.    0.    0.    0.    0.    0.\n",
      "  0.    0.    0.    0.    0.    0.    0.    0.   ]\n",
      " [0.    0.    0.001 0.    0.001 0.    0.    0.    0.    0.    0.    0.\n",
      "  0.    0.    0.    0.    0.    0.    0.    0.   ]\n",
      " [0.    0.003 0.    0.002 0.    0.001 0.    0.    0.    0.    0.    0.\n",
      "  0.    0.    0.    0.    0.    0.    0.    0.   ]\n",
      " [0.    0.    0.006 0.    0.003 0.    0.001 0.    0.    0.    0.    0.\n",
      "  0.    0.    0.    0.    0.    0.    0.    0.   ]\n",
      " [0.    0.012 0.    0.008 0.    0.003 0.    0.001 0.    0.    0.    0.\n",
      "  0.    0.    0.    0.    0.    0.    0.    0.   ]\n",
      " [0.    0.    0.021 0.    0.01  0.    0.003 0.    0.001 0.    0.    0.\n",
      "  0.    0.    0.    0.    0.    0.    0.    0.   ]\n",
      " [0.    0.035 0.    0.026 0.    0.01  0.    0.003 0.    0.001 0.    0.\n",
      "  0.    0.    0.    0.    0.    0.    0.    0.   ]\n",
      " [0.    0.    0.054 0.    0.028 0.    0.01  0.    0.003 0.    0.001 0.\n",
      "  0.    0.    0.    0.    0.    0.    0.    0.   ]\n",
      " [0.    0.076 0.    0.062 0.    0.028 0.    0.01  0.    0.003 0.    0.001\n",
      "  0.    0.    0.    0.    0.    0.    0.    0.   ]\n",
      " [0.    0.    0.109 0.    0.065 0.    0.029 0.    0.01  0.    0.003 0.\n",
      "  0.001 0.    0.    0.    0.    0.    0.    0.   ]\n",
      " [0.    0.129 0.    0.119 0.    0.065 0.    0.029 0.    0.01  0.    0.003\n",
      "  0.    0.001 0.    0.    0.    0.    0.    0.   ]\n",
      " [0.    0.    0.171 0.    0.122 0.    0.065 0.    0.029 0.    0.01  0.\n",
      "  0.003 0.    0.001 0.    0.    0.    0.    0.   ]\n",
      " [0.    0.168 0.    0.181 0.    0.122 0.    0.065 0.    0.028 0.    0.01\n",
      "  0.    0.003 0.    0.001 0.    0.    0.    0.   ]\n",
      " [0.    0.    0.208 0.    0.183 0.    0.122 0.    0.065 0.    0.028 0.\n",
      "  0.01  0.    0.003 0.    0.001 0.    0.    0.   ]\n",
      " [0.    0.161 0.    0.214 0.    0.181 0.    0.119 0.    0.062 0.    0.026\n",
      "  0.    0.008 0.    0.002 0.    0.    0.    0.   ]\n",
      " [0.    0.    0.186 0.    0.208 0.    0.171 0.    0.109 0.    0.054 0.\n",
      "  0.021 0.    0.006 0.    0.001 0.    0.    0.   ]\n",
      " [0.    0.097 0.    0.161 0.    0.168 0.    0.129 0.    0.076 0.    0.035\n",
      "  0.    0.012 0.    0.003 0.    0.001 0.    0.   ]\n",
      " [0.    0.067 0.181 0.21  0.378 0.42  0.598 0.643 0.784 0.819 0.904 0.925\n",
      "  0.965 0.975 0.99  0.994 0.998 0.999 1.    1.   ]]\n"
     ]
    }
   ],
   "source": [
    "print(np.round(potenciarMatriz(P),3))"
   ]
  },
  {
   "cell_type": "code",
   "execution_count": 86,
   "id": "b4fcf567",
   "metadata": {},
   "outputs": [
    {
     "name": "stdout",
     "output_type": "stream",
     "text": [
      "[[ 0.     -0.4717  0.608  -0.    ]\n",
      " [ 0.      0.7632  0.3757  0.    ]\n",
      " [ 0.7071  0.1304 -0.4399  0.7071]\n",
      " [-0.7071 -0.4219 -0.5438  0.7071]] \n",
      "\n",
      "[[-1.          0.          0.          0.        ]\n",
      " [ 0.         -0.30901699  0.          0.        ]\n",
      " [ 0.          0.          0.80901699  0.        ]\n",
      " [ 0.          0.          0.          1.        ]] \n",
      "\n",
      "[1.82891948e-10 1.13033428e-10 2.00000000e-01 8.00000000e-01]\n"
     ]
    }
   ],
   "source": [
    "P = np.array([[0.5,0.5,0,0],[0.5,0,0,0],[0,0.5,0,1],[0,0,1,0]])\n",
    "eig = np.linalg.eig(P)\n",
    "evecs = eig[1]\n",
    "evals = eig[0]\n",
    "del(eig)\n",
    "\n",
    "\n",
    "def extraerEvec(evecs, n):\n",
    "    evec = np.zeros(len(evecs))\n",
    "    for i in range(len(evecs)):\n",
    "        evec[i] = evecs[i][n]\n",
    "    return evec\n",
    "        \n",
    "evec = extraerEvec(evecs,3)\n",
    "\n",
    "\n",
    "\n",
    "def matrizDiagonal(evals):\n",
    "    diagonal = np.zeros(shape=(len(evals),len(evals)))\n",
    "    for i in range(len(evals)):\n",
    "        diagonal[i][i]= evals[i]\n",
    "    return diagonal\n",
    "\n",
    "diagonal = matrizDiagonal(evals)\n",
    "\n",
    "v0 = np.array([0.5,0,0.5,0])\n",
    "v0b = np.linalg.solve(evecs,v0)\n",
    "\n",
    "\n",
    "print(np.round(evecs,4),\"\\n\")\n",
    "print(diagonal,\"\\n\")\n",
    "\n",
    "print(evecs@(potenciarMatriz(diagonal,100))@v0b)\n",
    "\n",
    "        \n"
   ]
  }
 ],
 "metadata": {
  "kernelspec": {
   "display_name": "Python 3 (ipykernel)",
   "language": "python",
   "name": "python3"
  },
  "language_info": {
   "codemirror_mode": {
    "name": "ipython",
    "version": 3
   },
   "file_extension": ".py",
   "mimetype": "text/x-python",
   "name": "python",
   "nbconvert_exporter": "python",
   "pygments_lexer": "ipython3",
   "version": "3.9.12"
  }
 },
 "nbformat": 4,
 "nbformat_minor": 5
}
